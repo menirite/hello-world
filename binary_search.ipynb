{
 "cells": [
  {
   "cell_type": "code",
   "execution_count": 16,
   "metadata": {},
   "outputs": [],
   "source": [
    "#二分查找\n",
    "#折半查找，假设列表是顺序的，以列表中点将其分为左右两个子表，如果查找关键词小于中点，则进一步看前表\n",
    "#非递归\n",
    "#testlist = [0, 1, 2, 8, 13, 17, 19, 32, 42,]\n",
    "#input = item\n",
    "#output = True or False\n",
    "def binary_search(alist,item):\n",
    "    n = len(alist)-1\n",
    "    first = 0\n",
    "    last = n\n",
    "    while first < last:\n",
    "        mid = (first+last)//2\n",
    "        if item == alist[mid]:\n",
    "            return True\n",
    "        elif item > alist[mid]:\n",
    "            first += mid\n",
    "        else:\n",
    "            last -= mid\n",
    "    return False\n",
    "\n",
    "#递归法\n",
    "def binary_search_re(alist,item):\n",
    "    if len(alist)==0:\n",
    "        return False\n",
    "    else:\n",
    "        mid = (len(alist))//2\n",
    "        if item == alist[mid]:\n",
    "            return True\n",
    "        elif item < alist[mid]:\n",
    "            binary_search_re(alist[0:mid],item)\n",
    "        else:\n",
    "            binary_search_re(alist[mid+1:-1],item)\n",
    "        "
   ]
  },
  {
   "cell_type": "code",
   "execution_count": 17,
   "metadata": {},
   "outputs": [
    {
     "name": "stdout",
     "output_type": "stream",
     "text": [
      "False\n",
      "True\n",
      "None\n",
      "True\n"
     ]
    }
   ],
   "source": [
    "testlist = [0, 1, 2, 8, 13, 17, 19, 32, 42,]\n",
    "print(binary_search(testlist, 3))\n",
    "print(binary_search(testlist, 13))\n",
    "print(binary_search_re(testlist, 3))\n",
    "print(binary_search_re(testlist, 13))"
   ]
  },
  {
   "cell_type": "code",
   "execution_count": null,
   "metadata": {},
   "outputs": [],
   "source": []
  }
 ],
 "metadata": {
  "kernelspec": {
   "display_name": "Python 3",
   "language": "python",
   "name": "python3"
  },
  "language_info": {
   "codemirror_mode": {
    "name": "ipython",
    "version": 3
   },
   "file_extension": ".py",
   "mimetype": "text/x-python",
   "name": "python",
   "nbconvert_exporter": "python",
   "pygments_lexer": "ipython3",
   "version": "3.6.8"
  }
 },
 "nbformat": 4,
 "nbformat_minor": 2
}
